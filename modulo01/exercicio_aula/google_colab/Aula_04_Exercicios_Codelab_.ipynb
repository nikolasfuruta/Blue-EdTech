{
  "nbformat": 4,
  "nbformat_minor": 0,
  "metadata": {
    "colab": {
      "name": "Aula_04_Exercicios_Codelab_.ipynb",
      "provenance": [],
      "collapsed_sections": [],
      "include_colab_link": true
    },
    "kernelspec": {
      "name": "python3",
      "display_name": "Python 3"
    },
    "language_info": {
      "name": "python"
    }
  },
  "cells": [
    {
      "cell_type": "markdown",
      "metadata": {
        "id": "view-in-github",
        "colab_type": "text"
      },
      "source": [
        "<a href=\"https://colab.research.google.com/github/nikolasfuruta/exercicio_python_blue/blob/main/Aula_04_Exercicios_Codelab_.ipynb\" target=\"_parent\"><img src=\"https://colab.research.google.com/assets/colab-badge.svg\" alt=\"Open In Colab\"/></a>"
      ]
    },
    {
      "cell_type": "markdown",
      "metadata": {
        "id": "SW-cnnj3AAlE"
      },
      "source": [
        "## Exercício 01\n",
        "\n",
        "Faça um programa que pergunte ao usuário um número e valide se o numero é par ou impar:\n",
        "\n",
        "* Crie uma variável para receber o valor, com conversão para int\n",
        "* Para um número ser par, a divisão dele por 2 tem que dar resto 0"
      ]
    },
    {
      "cell_type": "code",
      "metadata": {
        "id": "ZeuCDPZQFT9T"
      },
      "source": [
        "n = int(input(\"Digite um valor: \"))\n",
        "if (n%2 == 0):\n",
        "  print(f\"{n} é PAR\")\n",
        "else:\n",
        "  print(f\"{n} é IMPAR\")"
      ],
      "execution_count": null,
      "outputs": []
    },
    {
      "cell_type": "markdown",
      "metadata": {
        "id": "jXVUBuN3DcU-"
      },
      "source": [
        "## Exercício 02\n",
        "\n",
        "> Parte 1\n",
        "\n",
        "Faça um script que peça um valor e mostre na tela se o valor é positivo ou negativo.\n",
        "\n",
        "> Parte 2\n",
        "\n",
        "Agora implemente a funcionalidade de não aceitar o número 0, no input. (esse vai além do explicado até agora)"
      ]
    },
    {
      "cell_type": "code",
      "metadata": {
        "id": "bsM4V6SeHwJr"
      },
      "source": [
        "n = int(input(\"Digite um valor diferente de ZERO: \"))\n",
        "if n == 0:\n",
        "  print(\"Digite um valor DIFERENTE DE ZERO!\")\n",
        "elif n > 0:\n",
        "  print(f\"{n} é POSITIVO\")\n",
        "else:\n",
        "  print(f\"{n} é NEGATIVO\")"
      ],
      "execution_count": null,
      "outputs": []
    },
    {
      "cell_type": "markdown",
      "metadata": {
        "id": "90mUizLXOKd3"
      },
      "source": [
        "## Exercício 03\n",
        "\n",
        "Faça um programa que peça dois números, imprima o maior deles ou imprima \"Numeros iguais\" se os números forem iguais."
      ]
    },
    {
      "cell_type": "code",
      "metadata": {
        "id": "7yXB2kfUVYuD"
      },
      "source": [
        "n1 = int(input(\"Digite um valor: \"))\n",
        "n2 = int(input(\"Digite um valor: \"))\n",
        "\n",
        "if n1 == n2:\n",
        "  print(f\"Os valores são IGUAIS\")\n",
        "elif n1 > n2:\n",
        "  print(f\"{n1} é o maior valor!\")\n",
        "else:\n",
        "  print(f\"{n2} é o maior valor!\")"
      ],
      "execution_count": null,
      "outputs": []
    },
    {
      "cell_type": "markdown",
      "metadata": {
        "id": "9BATv7tsOWOI"
      },
      "source": [
        "## Exercício 04\n",
        "\n",
        "Crie um programa que verifique se uma letra digitada é \"F\" ou \"M\". Conforme a letra, escrever: F - Feminino, M - Masculino, caso escreva outra letra: Sexo Biológico Inválido."
      ]
    },
    {
      "cell_type": "code",
      "metadata": {
        "id": "pRm8kyI7Wnp4"
      },
      "source": [
        "n = input(\"Digite [F/M]: \").upper().strip()[0]\n",
        "if n == 'F':\n",
        "  print(\"Feminino\")\n",
        "elif n == 'M':\n",
        "  print(\"Masculino\")\n",
        "else:\n",
        "  print(\"Sexo Biológico Inválido\")"
      ],
      "execution_count": null,
      "outputs": []
    },
    {
      "cell_type": "markdown",
      "metadata": {
        "id": "WX2j2ITtY3G5"
      },
      "source": [
        "### Exercício 05\n",
        "\n",
        "Crie um programa em Python que peça a nota do aluno, que deve ser um float entre 0.00 e 10.0\n",
        "\n",
        "* Se a nota for menor que 6.0, deve exibir a nota F.\n",
        "\n",
        "* Se a nota for de 6.0 até 7.0, deve exibir a nota D.\n",
        "\n",
        "* Se a nota for entre 7.0 e 8.0, deve exibir a nota C.\n",
        "\n",
        "* Se a nota for entre 8.0 e 9.0, deve exibir a nota B.\n",
        "\n",
        "* Por fim, se for entre 9.0 e 10.0, deve exibir um belo de um A."
      ]
    },
    {
      "cell_type": "code",
      "metadata": {
        "id": "4CjqLlFWY5Z-",
        "colab": {
          "base_uri": "https://localhost:8080/"
        },
        "outputId": "b9e871c5-8a1f-4551-cedb-ea13372a639b"
      },
      "source": [
        "nota = float(input(\"Digite a nota do aluno: \"))\n",
        "if nota < 6.0:\n",
        "  print(f\"Nota F\")\n",
        "elif 6.0 <= nota < 7.0: \n",
        "  print(f\"Nota D\")\n",
        "elif 7.0 <= nota < 8.0:\n",
        "  print(f\"Nota C\")\n",
        "elif 8.0 <= nota < 9.0:\n",
        "  print(f\"Nota B\")\n",
        "elif 9.0 <= nota <= 10.0:\n",
        "  print(f\"Nota A\")"
      ],
      "execution_count": null,
      "outputs": [
        {
          "output_type": "stream",
          "text": [
            "Digite a nota do aluno: 9.0\n",
            "Nota A\n"
          ],
          "name": "stdout"
        }
      ]
    },
    {
      "cell_type": "markdown",
      "metadata": {
        "id": "xep4W_T-s-Ra"
      },
      "source": [
        "# *Mini Projetos*"
      ]
    },
    {
      "cell_type": "markdown",
      "metadata": {
        "id": "4YbMlSEZG7UM"
      },
      "source": [
        "## **PROJETO 01**\n",
        "\n",
        "*   Escreva um programa que receba uma string digitada pelo usuário;\n",
        "*   Caso a string seja \"medieval\", exiba no console \"espada\";\n",
        "*   Caso contrário, se a string for \"futurista\", exiba no console \"sabre de luz\";\n",
        "*   Caso contrário, exiba no console \"Tente novamente\""
      ]
    },
    {
      "cell_type": "code",
      "metadata": {
        "id": "tn9QH5pVG8Rq",
        "colab": {
          "base_uri": "https://localhost:8080/"
        },
        "outputId": "4fd3214d-2d50-4a01-85df-118dd9ffd24a"
      },
      "source": [
        "# Resposta:\n",
        "resp = input(\"Digite uma string [medieval/futurista/outro]: \").lower().strip()\n",
        "if resp == \"medieval\":\n",
        "  print(\"espada\")\n",
        "elif resp == \"futurista\":\n",
        "  print(\"Sabre de Luz\")\n",
        "else:\n",
        "  print(\"Tente novamente\")"
      ],
      "execution_count": null,
      "outputs": [
        {
          "output_type": "stream",
          "text": [
            "Digite uma string: futurista\n",
            "Sabre de Luz\n"
          ],
          "name": "stdout"
        }
      ]
    },
    {
      "cell_type": "markdown",
      "metadata": {
        "id": "zUGk1OiNHDik"
      },
      "source": [
        "## **PROJETO 02**\n",
        "\n",
        "* Escreva um programa que receba um ataque de espada ou sabre digitada pelo usuário;\n",
        "\n",
        "* Caso o ataque seja \"espada\", exiba no console \"VOCÊ AINDA NÃO MATOU O CHEFÃO\";\n",
        "\n",
        "* Caso contrário, se o ataque for \"sabre\", exiba no console \"VOCÊ DERROTOU O CHEFÃO COM O SABRE DE LUZ\";\n",
        "\n",
        "* Caso contrário, exiba no console \"ATAQUE NOVAMENTE\""
      ]
    },
    {
      "cell_type": "code",
      "metadata": {
        "id": "eNZokIIOHHkp",
        "colab": {
          "base_uri": "https://localhost:8080/"
        },
        "outputId": "2f2de400-2305-4add-c092-46e3afe2cb2c"
      },
      "source": [
        "# Resposta:\n",
        "\n",
        "tipo_ataque = input(\"Digite o tipo de ataque [espada/sabre/outro]: \").lower().strip()\n",
        "if tipo_ataque == \"espada\":\n",
        "  print(\"VOCÊ AINDA NÃO MATOU O CHEFÃO\")\n",
        "elif tipo_ataque == \"sabre\":\n",
        "  print(\"VOCÊ DERROTOU O CHEFÃO COM O SABRE DE LUZ\")\n",
        "else:\n",
        "  print(\"ATAQUE NOVAMENTE\")\n",
        "\n"
      ],
      "execution_count": null,
      "outputs": [
        {
          "output_type": "stream",
          "text": [
            "Digite o tipo de ataque [espada/sabre/outro]: espada\n",
            "VOCÊ AINDA NÃO MATOU O CHEFÃO\n"
          ],
          "name": "stdout"
        }
      ]
    },
    {
      "cell_type": "markdown",
      "metadata": {
        "id": "NRhLAMa6ZfqU"
      },
      "source": [
        "## **DESAFIO 01**\n",
        "\n",
        "**Reajuste salarial**\n",
        "\n",
        "As empresas @.com resolveram dar um aumento de salário aos seus colaboradores e lhe contrataram para desenvolver o programa que calculará os reajustes.\n",
        "\n",
        "Faça um programa que recebe o salário de um colaborador e o reajuste segundo o seguinte critério, baseado no salário atual:\n",
        "* salários até R$ 280,00 (incluindo) : aumento de 20%\n",
        "\n",
        "* salários entre R\\$ 280,00 e R$ 700,00 : aumento de 15%\n",
        "\n",
        "* salários entre R\\$ 700,00 e R$ 1500,00 : aumento de 10%\n",
        "\n",
        "* salários de R$ 1500,00 em diante : aumento de 5% \n",
        "\n",
        "Após o aumento ser realizado, informe na tela:\n",
        "* o salário antes do reajuste;\n",
        "\n",
        "* o percentual de aumento aplicado;\n",
        "\n",
        "* o valor do aumento;\n",
        "\n",
        "* o novo salário, após o aumento.\""
      ]
    },
    {
      "cell_type": "code",
      "metadata": {
        "id": "VpC5oZINZXzt",
        "colab": {
          "base_uri": "https://localhost:8080/"
        },
        "outputId": "054abf37-1272-4419-ea9a-d11cf9dcbf88"
      },
      "source": [
        "salario = float(input(\"Digite o salário: \"))\n",
        "\n",
        "if salario <= 280:\n",
        "  taxa = 0.20\n",
        "  sal_ajuste = salario*(1+taxa)\n",
        "elif 280 < salario <= 700:\n",
        "  taxa = 0.15\n",
        "  sal_ajuste = salario*(1+taxa)\n",
        "elif 700 < salario <= 1500:\n",
        "  taxa = 0.10\n",
        "  sal_ajuste = salario*(1+taxa)\n",
        "else:\n",
        "  taxa = 0.05\n",
        "  sal_ajuste = salario*(1+taxa)\n",
        "print(f\"Salário: {salario}\\nAumento(%): {int(taxa*100)}%\\nAumento: {salario*taxa}\\\n",
        "        \\nSalário Reajustado: {sal_ajuste:.2f}\")\n",
        "\n",
        "\n",
        "\n",
        "\n"
      ],
      "execution_count": null,
      "outputs": [
        {
          "output_type": "stream",
          "text": [
            "Digite o salário: 1600\n",
            "Salário: 1600.0\n",
            "Aumento(%): 5%\n",
            "Aumento: 80.0        \n",
            "Salário Reajustado: 1680.00\n"
          ],
          "name": "stdout"
        }
      ]
    },
    {
      "cell_type": "markdown",
      "metadata": {
        "id": "HvThpbU4aBGy"
      },
      "source": [
        "## **DESAFIO 02**\n",
        "\n",
        "**Jogo da adivinhação**\n",
        "\n",
        "Escreva um programa que faça o computador “pensar” em um número inteiro entre 0 e 10 e peça para o usuário tentar descobrir qual foi o número escolhido pelo computador. O programa deverá escrever na tela se o usuário venceu ou perdeu."
      ]
    },
    {
      "cell_type": "code",
      "metadata": {
        "id": "TVeHZbyQZIzO",
        "colab": {
          "base_uri": "https://localhost:8080/"
        },
        "outputId": "64a25944-474f-4194-f913-911bbd870764"
      },
      "source": [
        "from random import choice \n",
        "\n",
        "comp_num = choice(range(11))\n",
        "user_guess = int(input(\"Digite um número inteiro entre zero e dez: \"))\n",
        "if user_guess > 10 or user_guess < 0:\n",
        "  print(\"Você está escolhendo valores além do limite estabelecido!\")\n",
        "elif user_guess == comp_num:\n",
        "  print(f\"Você ACERTOU, o número é {comp_num}\")\n",
        "else:\n",
        "  print(f\"Você ERROU, o número correto é {comp_num}\")\n",
        "\n",
        "\n",
        "\n",
        "\n"
      ],
      "execution_count": null,
      "outputs": [
        {
          "output_type": "stream",
          "text": [
            "Digite um número inteiro entre zero e dez: 3\n",
            "Você ERROU, o número correto é 5\n"
          ],
          "name": "stdout"
        }
      ]
    },
    {
      "cell_type": "markdown",
      "metadata": {
        "id": "mjLFAUooaOH1"
      },
      "source": [
        "## **Desafio 03**\n",
        "\n",
        "**Caixa eletrônico**\n",
        "\n",
        "Faça um Programa para um caixa eletrônico. O programa deverá perguntar ao usuário a valor do saque e depois informar quantas notas de cada valor serão fornecidas. As notas disponíveis serão as de 1, 5, 10, 50 e 100 reais. O valor mínimo é de 10 reais e o máximo de 600 reais. O programa não deve se preocupar com a quantidade de notas existentes na máquina.\n",
        "\n",
        "* Exemplo 1: Para sacar a quantia de 256 reais, o programa fornece duas notas de 100, uma nota de 50, uma nota de 5 e uma nota de 1;\n",
        "\n",
        "* Exemplo 2: Para sacar a quantia de 399 reais, o programa fornece três notas de 100, uma nota de 50, quatro notas de 10, uma nota de 5 e quatro notas de 1.\n",
        "\n"
      ]
    },
    {
      "cell_type": "code",
      "metadata": {
        "id": "sH65bTx-ZMLh",
        "colab": {
          "base_uri": "https://localhost:8080/"
        },
        "outputId": "28c2cc33-ae0d-478c-bac8-8afc8e9a08c6"
      },
      "source": [
        "saque = int(input(\"Digite o valor a sacar: \"))\n",
        "if 10 < saque < 600:\n",
        "  nota_100 = saque//100\n",
        "  nota_50 = (saque%100)//50\n",
        "  nota_10 = ((saque%100)%50)//10\n",
        "  nota_5 = (((saque%100)%50)%10)//5\n",
        "  nota_1 = ((((saque%100)%50)%10)%5)\n",
        "  print(f\"Notas de 100: {nota_100}\\nNotas de 50: {nota_50}\\nNotas de 10: {nota_10}\\\n",
        "  \\nNotas de 5: {nota_5}\\nNotas de 1:{nota_1}\")\n",
        "  \n",
        "else:\n",
        "  print(\"O valor do saque está fora do limite estabelecido.\")\n"
      ],
      "execution_count": null,
      "outputs": [
        {
          "output_type": "stream",
          "text": [
            "Digite o valor a sacar: 5\n",
            "O valor do saque está fora do limite estabelecido.\n"
          ],
          "name": "stdout"
        }
      ]
    }
  ]
}