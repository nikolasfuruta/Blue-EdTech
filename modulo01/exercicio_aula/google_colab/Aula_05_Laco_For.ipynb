{
  "nbformat": 4,
  "nbformat_minor": 0,
  "metadata": {
    "colab": {
      "name": "Aula_05_Laco_For.ipynb",
      "provenance": [],
      "collapsed_sections": [],
      "include_colab_link": true
    },
    "kernelspec": {
      "name": "python3",
      "display_name": "Python 3"
    },
    "language_info": {
      "name": "python"
    }
  },
  "cells": [
    {
      "cell_type": "markdown",
      "metadata": {
        "id": "view-in-github",
        "colab_type": "text"
      },
      "source": [
        "<a href=\"https://colab.research.google.com/github/nikolasfuruta/exercicio_python_blue/blob/main/Aula_05_Laco_For.ipynb\" target=\"_parent\"><img src=\"https://colab.research.google.com/assets/colab-badge.svg\" alt=\"Open In Colab\"/></a>"
      ]
    },
    {
      "cell_type": "markdown",
      "metadata": {
        "id": "bvC7eMZckKmP"
      },
      "source": [
        "# Estrutura de repetição FOR"
      ]
    },
    {
      "cell_type": "markdown",
      "metadata": {
        "id": "QvYfJkBUjG4C"
      },
      "source": [
        "**Até agora a gente aprendeu a desviar das coisas, agora vmaos aprender a repetir elas!**\n",
        "\n",
        "Imagina que nós queremos escrever na telá olá 5 vezes, nós teriamos que colcoar:"
      ]
    },
    {
      "cell_type": "code",
      "metadata": {
        "id": "vukYj3iWdYPP"
      },
      "source": [
        "print('Olá')\n",
        "print('Olá')\n",
        "print('Olá')\n",
        "print('Olá')\n",
        "print('Olá')"
      ],
      "execution_count": null,
      "outputs": []
    },
    {
      "cell_type": "markdown",
      "metadata": {
        "id": "fI4K1rr6jUor"
      },
      "source": [
        "Mas e se eu quiser escrever isso 500 vezes? Seria inviável, por isso temos o laço for, podemos substituir o código de cima por:"
      ]
    },
    {
      "cell_type": "code",
      "metadata": {
        "id": "ZcN9pFZNjXA3"
      },
      "source": [
        "for c in range(1, 6): # De 1 a 6 porque o range ignora o ultimo número.\n",
        "   print('Olá')\n",
        "print('Fim')"
      ],
      "execution_count": null,
      "outputs": []
    },
    {
      "cell_type": "markdown",
      "metadata": {
        "id": "3O6AkdXKjXmT"
      },
      "source": [
        "O laço for é chamado de laço com variável de controle, caso acima, o c é a variável de controle.\n",
        "\n",
        "Outro exemplo, pra entendermos variáveis de controle:"
      ]
    },
    {
      "cell_type": "code",
      "metadata": {
        "id": "JXUWt0-8jaOx"
      },
      "source": [
        "for c in range(0, 5):\n",
        "   print(c) # Vai mostrar uma contagem crescente"
      ],
      "execution_count": null,
      "outputs": []
    },
    {
      "cell_type": "markdown",
      "metadata": {
        "id": "_itgYbIVjcJL"
      },
      "source": [
        "Para contagens descrescentes utilize:"
      ]
    },
    {
      "cell_type": "code",
      "metadata": {
        "id": "SQ2RGDWRjhlE"
      },
      "source": [
        "for c in range(5, 0, -1): # começa no 5, tira 1 (-1), até o 1 (pois o útimo é ignorado)\n",
        "   print(c)"
      ],
      "execution_count": null,
      "outputs": []
    },
    {
      "cell_type": "markdown",
      "metadata": {
        "id": "xxpKGg2Jji_B"
      },
      "source": [
        "Para pular de dois em dois:"
      ]
    },
    {
      "cell_type": "code",
      "metadata": {
        "id": "4eeSTayRjlUs"
      },
      "source": [
        "for c in range(0, 7, 2): # começa no 0, pula de 2 em 2, até o 6 (pois o útimo é ignorado)\n",
        "   print(c)"
      ],
      "execution_count": null,
      "outputs": []
    },
    {
      "cell_type": "markdown",
      "metadata": {
        "id": "h0WwKHjQjnRX"
      },
      "source": [
        "Vamos a mais um exemplo:"
      ]
    },
    {
      "cell_type": "code",
      "metadata": {
        "id": "jnoyrZ31jmsH"
      },
      "source": [
        "n = int(input('Digite um número: '))\n",
        "\n",
        "for c in range(0, n+1): # Li o n e utilizei dentro do range para contagem.\n",
        "   print(c)\n",
        "print('Fim')"
      ],
      "execution_count": null,
      "outputs": []
    },
    {
      "cell_type": "markdown",
      "metadata": {
        "id": "gbeyuLZPjtmZ"
      },
      "source": [
        "Agora vamos receber o incio do range, o fim e o passo:"
      ]
    },
    {
      "cell_type": "code",
      "metadata": {
        "id": "01g6XP9vjxyv"
      },
      "source": [
        "i = int(input('Digite o inicio: '))\n",
        "f = int(input('Digite o fim: '))\n",
        "p = int(input('Digite o passo: '))\n",
        "\n",
        "\n",
        "for c in range(i, f+1, p): \n",
        "   print(c)\n",
        "print('Fim')"
      ],
      "execution_count": null,
      "outputs": []
    },
    {
      "cell_type": "markdown",
      "metadata": {
        "id": "XU5Gyzxbj0BN"
      },
      "source": [
        "Vamos pedir varios valores no for, através do input e somar todos eles:"
      ]
    },
    {
      "cell_type": "code",
      "metadata": {
        "id": "JM7xPjg1j0vb"
      },
      "source": [
        "s = 0\n",
        "for c in range(0, 4):\n",
        "   n = int(input('Digite um número: '))\n",
        "   s += n\n",
        "print(f'A soma de todos os numeros é {s}')"
      ],
      "execution_count": null,
      "outputs": []
    },
    {
      "cell_type": "markdown",
      "metadata": {
        "id": "n15n2pU_j2-w"
      },
      "source": [
        "O in pode ser usado para Strings"
      ]
    },
    {
      "cell_type": "code",
      "metadata": {
        "id": "eeDwmKkdj9Rd"
      },
      "source": [
        "for letra in 'Thiago Veiga Lima':\n",
        "   if letra == 'e':\n",
        "      print(f'Achei a letra {letra}')\n",
        "print('Fim')"
      ],
      "execution_count": null,
      "outputs": []
    },
    {
      "cell_type": "markdown",
      "metadata": {
        "id": "5OBkpYL2j93v"
      },
      "source": [
        "## EXERCÍCIOS"
      ]
    },
    {
      "cell_type": "markdown",
      "metadata": {
        "id": "5YRVAt-RkbLo"
      },
      "source": [
        "01 - Faça um programa que mostre na tela uma contagem regressiva para o estouro de fogos de artifício, indo de 10 até 0, com uma pausa de 1 segundo entre eles."
      ]
    },
    {
      "cell_type": "code",
      "metadata": {
        "id": "5fGkh8FPkHJF"
      },
      "source": [
        "from time import sleep\n",
        "\n",
        "for t in range(10,0,-1):\n",
        "  print(t)\n",
        "  sleep(1)\n",
        "print(\"BAZINGA!\")"
      ],
      "execution_count": null,
      "outputs": []
    },
    {
      "cell_type": "markdown",
      "metadata": {
        "id": "RPyky00yke8P"
      },
      "source": [
        "\n",
        "\n",
        "```\n",
        "# Isto está formatado como código\n",
        "```\n",
        "\n",
        "02 - Dado uma string com uma frase informada pelo usuário (incluindo espaços em branco), conte quantas vezes aparece as vogais a,e,i,o,u"
      ]
    },
    {
      "cell_type": "code",
      "metadata": {
        "id": "t8Vw_nW3ki2s",
        "colab": {
          "base_uri": "https://localhost:8080/"
        },
        "outputId": "1f240c11-1eb2-4704-a4f6-cfb99ef78c5f"
      },
      "source": [
        "frase = input(\"Digite sua frase: \").lower().strip()\n",
        "vogal = 0\n",
        "for letra in frase:\n",
        "  if (letra in 'aeiou'):\n",
        "    vogal = vogal + 1\n",
        "print(f\"Na frase digitada, as vogais aparecem {vogal} vezes.\")\n"
      ],
      "execution_count": 16,
      "outputs": [
        {
          "output_type": "stream",
          "text": [
            "Digite sua frase: meu nome e nikolas\n",
            "Na frase digitada, as vogais aparecem 8 vezes.\n"
          ],
          "name": "stdout"
        }
      ]
    },
    {
      "cell_type": "markdown",
      "metadata": {
        "id": "3PKv_p1EkjJ-"
      },
      "source": [
        "**03** - Desenvolva um código que pergunte um número n para o usuário e exiba todos seus divisores"
      ]
    },
    {
      "cell_type": "code",
      "metadata": {
        "id": "U9_SKeqfknWF",
        "colab": {
          "base_uri": "https://localhost:8080/"
        },
        "outputId": "2a6f443a-d8a9-4ed7-a3ef-7492dbaa5628"
      },
      "source": [
        "num = int(input(\"Digite um número: \"))\n",
        "for n in range(1,num+1):\n",
        "  if num % n == 0:\n",
        "    print(n)"
      ],
      "execution_count": 9,
      "outputs": [
        {
          "output_type": "stream",
          "text": [
            "Digite um número: 25\n",
            "1\n",
            "5\n",
            "25\n"
          ],
          "name": "stdout"
        }
      ]
    },
    {
      "cell_type": "markdown",
      "metadata": {
        "id": "GgInr5G5koDC"
      },
      "source": [
        "04 - Escreva um programa onde o usuário digita uma frase e essa frase retorna sem nenhuma vogal."
      ]
    },
    {
      "cell_type": "code",
      "metadata": {
        "id": "6es38m-VkqeW",
        "colab": {
          "base_uri": "https://localhost:8080/"
        },
        "outputId": "79d89dec-4afb-4105-93c8-235c22eb2db3"
      },
      "source": [
        "frase = input(\"Digite sua frase: \").lower().strip()\n",
        "for i in frase:\n",
        "  if (i in 'aeiou'):\n",
        "    frase = frase.replace(i,'')\n",
        "print(f\"Frase sem vogal:{frase}\")\n"
      ],
      "execution_count": 15,
      "outputs": [
        {
          "output_type": "stream",
          "text": [
            "Digite sua frase: meu nome e nikolas\n",
            "Frase sem vogal:m nm  nkls\n"
          ],
          "name": "stdout"
        }
      ]
    }
  ]
}