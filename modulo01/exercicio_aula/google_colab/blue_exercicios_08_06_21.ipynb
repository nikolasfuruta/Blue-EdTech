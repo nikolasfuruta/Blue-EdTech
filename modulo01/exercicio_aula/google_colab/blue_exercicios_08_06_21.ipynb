{
  "nbformat": 4,
  "nbformat_minor": 0,
  "metadata": {
    "colab": {
      "name": "blue_exercicios - AULA_2_08/06/21",
      "provenance": [],
      "authorship_tag": "ABX9TyOlh4ML1/Xfl983crlhp5CV",
      "include_colab_link": true
    },
    "kernelspec": {
      "name": "python3",
      "display_name": "Python 3"
    },
    "language_info": {
      "name": "python"
    }
  },
  "cells": [
    {
      "cell_type": "markdown",
      "metadata": {
        "id": "view-in-github",
        "colab_type": "text"
      },
      "source": [
        "<a href=\"https://colab.research.google.com/github/nikolasfuruta/exercicio_blue/blob/main/blue_exercicios_08_06_21.ipynb\" target=\"_parent\"><img src=\"https://colab.research.google.com/assets/colab-badge.svg\" alt=\"Open In Colab\"/></a>"
      ]
    },
    {
      "cell_type": "markdown",
      "metadata": {
        "id": "xx2APIVYDjMC"
      },
      "source": [
        "EXERCÍCIOS PARA TREINAR"
      ]
    },
    {
      "cell_type": "code",
      "metadata": {
        "id": "SE4qH5U_8bTq"
      },
      "source": [
        "# 1 - Frase na tela"
      ],
      "execution_count": null,
      "outputs": []
    },
    {
      "cell_type": "code",
      "metadata": {
        "colab": {
          "base_uri": "https://localhost:8080/"
        },
        "id": "1mkNZ1jm8tks",
        "outputId": "ce5cda4a-eb44-449c-c6df-676353eb4367"
      },
      "source": [
        "print(\"O primeiro programa a gente nunca esquece!\")"
      ],
      "execution_count": null,
      "outputs": [
        {
          "output_type": "stream",
          "text": [
            "O primeiro programa a gente nunca esquece!\n"
          ],
          "name": "stdout"
        }
      ]
    },
    {
      "cell_type": "code",
      "metadata": {
        "id": "Kss972YI84Gj"
      },
      "source": [
        "# 2 - Elabore um programa que escreve seu nome completo na primeira linha, seu endereço na segunda e o CEP e telefone na terceira."
      ],
      "execution_count": null,
      "outputs": []
    },
    {
      "cell_type": "code",
      "metadata": {
        "colab": {
          "base_uri": "https://localhost:8080/"
        },
        "id": "-grDHQjw89Dd",
        "outputId": "b0d607f6-188b-44ab-bf8a-b9d978f39727"
      },
      "source": [
        "nome = str(input(\"Digite o nome: \"))\n",
        "ender = str(input(\"Digite o endereço: \"))\n",
        "cep = str(input(\"Digite o cep: \"))\n",
        "print(f\"Nome: {nome}\\nEndereço: {ender}\\nCEP: {cep}\")"
      ],
      "execution_count": null,
      "outputs": [
        {
          "output_type": "stream",
          "text": [
            "Digite o nome: Nikolas\n",
            "Digite o endereço: abcd\n",
            "Digite o cep: 1233445567788\n",
            "Nome: Nikolas\n",
            "Endereço: abcd\n",
            "CEP: 1233445567788\n"
          ],
          "name": "stdout"
        }
      ]
    },
    {
      "cell_type": "code",
      "metadata": {
        "id": "YiELDucJ9eIo"
      },
      "source": [
        "# 3 -Letra de música "
      ],
      "execution_count": null,
      "outputs": []
    },
    {
      "cell_type": "code",
      "metadata": {
        "colab": {
          "base_uri": "https://localhost:8080/"
        },
        "id": "aqYFEnAR9ili",
        "outputId": "647abfec-2d62-487e-d28f-4f56daee2302"
      },
      "source": [
        "banda = 'Sticky Fingers'\n",
        "musica = 'Cyclone'\n",
        "letra = \"\"\" Here comes a story of a hurricane\n",
        "      And a temper is lost like crying tears in rain\n",
        "      No love is lost or no sweet wisdom gained\n",
        "      So save your tears and save yourself the shame\n",
        "      Cyclone\"\"\"\n",
        "print(f\"Banda: {banda}\\nMúsica: {musica}\\nLetra:{letra}\")"
      ],
      "execution_count": null,
      "outputs": [
        {
          "output_type": "stream",
          "text": [
            "Banda: Sticky Fingers\n",
            "Música: Cyclone\n",
            "Letra: Here comes a story of a hurricane\n",
            "      And a temper is lost like crying tears in rain\n",
            "      No love is lost or no sweet wisdom gained\n",
            "      So save your tears and save yourself the shame\n",
            "      Cyclone\n"
          ],
          "name": "stdout"
        }
      ]
    },
    {
      "cell_type": "code",
      "metadata": {
        "id": "_qk-zk66-l9F"
      },
      "source": [
        "# 4-Tabela de notas"
      ],
      "execution_count": null,
      "outputs": []
    },
    {
      "cell_type": "code",
      "metadata": {
        "colab": {
          "base_uri": "https://localhost:8080/"
        },
        "id": "c5NUk79z-n4g",
        "outputId": "765d977e-9e27-4f83-bda9-86025a7e9b36"
      },
      "source": [
        "print(\"ALUNO (A)  NOTA\")\n",
        "print(\"=========  =====\")\n",
        "print(f\"ALINE      {9.0}\")\n",
        "print(\"MÁRIO      DEZ\")\n",
        "print(f\"SÉRGIO     {4.5}\")\n",
        "print(f\"SHIRLEY    {7.0}\")"
      ],
      "execution_count": null,
      "outputs": [
        {
          "output_type": "stream",
          "text": [
            "ALUNO (A)  NOTA\n",
            "=========  =====\n",
            "ALINE      9.0\n",
            "MÁRIO      DEZ\n",
            "SÉRGIO     4.5\n",
            "SHIRLEY    7.0\n"
          ],
          "name": "stdout"
        }
      ]
    },
    {
      "cell_type": "code",
      "metadata": {
        "id": "iYoE91p2_ouf"
      },
      "source": [
        "# 5-Menu "
      ],
      "execution_count": null,
      "outputs": []
    },
    {
      "cell_type": "code",
      "metadata": {
        "colab": {
          "base_uri": "https://localhost:8080/"
        },
        "id": "J3pX-VVc_rZl",
        "outputId": "c34080a6-94af-476f-9dfa-7ecd8ee93818"
      },
      "source": [
        "print(\"Cadastro de Clientes\")\n",
        "lista_clientes = ['Fim','Inclui','Altera','Exclui','Consulta']\n",
        "[print(f\"{k} - {v}\") for k,v in enumerate(lista_clientes)]\n",
        "opcao = int(input('Digite uma opção: '))\n",
        "print(lista_clientes[opcao])\n"
      ],
      "execution_count": null,
      "outputs": [
        {
          "output_type": "stream",
          "text": [
            "Cadastro de Clientes\n",
            "0 - Fim\n",
            "1 - Inclui\n",
            "2 - Altera\n",
            "3 - Exclui\n",
            "4 - Consulta\n",
            "Digite uma opção: 2\n",
            "Altera\n"
          ],
          "name": "stdout"
        }
      ]
    },
    {
      "cell_type": "code",
      "metadata": {
        "id": "C38PlBJpCTU0"
      },
      "source": [
        "# 6-Calculadora de Dano"
      ],
      "execution_count": null,
      "outputs": []
    },
    {
      "cell_type": "code",
      "metadata": {
        "colab": {
          "base_uri": "https://localhost:8080/"
        },
        "id": "DH9XDhdICWIG",
        "outputId": "dad6e65c-d5b0-4b01-d009-cfea1b01209a"
      },
      "source": [
        "from math import ceil\n",
        "vida = float(input(\"Digite a quantidade de vida de um monstro (entre 10 e 50): \"))\n",
        "ataque = float(input(\"Digite o valor do ataque do jogador por turno (entre 5 e 10): \"))\n",
        "tempo_derrota = ceil(vida/ataque)\n",
        "print(f\"O jogador irá derrotar o monstro em {tempo_derrota} turnos.\")"
      ],
      "execution_count": 2,
      "outputs": [
        {
          "output_type": "stream",
          "text": [
            "Digite a quantidade de vida de um monstro (entre 10 e 50): 37\n",
            "Digite o valor do ataque do jogador por turno (entre 5 e 10): 11\n",
            "O jogador irá derrotar o monstro em 4 turnos.\n"
          ],
          "name": "stdout"
        }
      ]
    },
    {
      "cell_type": "markdown",
      "metadata": {
        "id": "VFRNNUtQDtVj"
      },
      "source": [
        "EXERCÍCIOS"
      ]
    },
    {
      "cell_type": "code",
      "metadata": {
        "id": "fiPjjgtmDcnK"
      },
      "source": [
        "#01 - E os 10% do garçom?**"
      ],
      "execution_count": null,
      "outputs": []
    },
    {
      "cell_type": "code",
      "metadata": {
        "colab": {
          "base_uri": "https://localhost:8080/"
        },
        "id": "g7sSiOLMDyEl",
        "outputId": "6f6903e8-317c-4e7f-f9e5-415f5e99841e"
      },
      "source": [
        "valor_refeicao = 42.54\n",
        "taxa_servico = 0.1\n",
        "valor_total = valor_refeicao*(1+taxa_servico)\n",
        "print(f\"R${valor_total:.2f}\")"
      ],
      "execution_count": null,
      "outputs": [
        {
          "output_type": "stream",
          "text": [
            "R$46.79\n"
          ],
          "name": "stdout"
        }
      ]
    },
    {
      "cell_type": "code",
      "metadata": {
        "id": "NyjcCCj2EeoB"
      },
      "source": [
        "#02 - Qual o valor do troco?"
      ],
      "execution_count": null,
      "outputs": []
    },
    {
      "cell_type": "code",
      "metadata": {
        "colab": {
          "base_uri": "https://localhost:8080/"
        },
        "id": "lUqw93wQEgzG",
        "outputId": "f394c7ce-d2b7-4c3f-f032-ea42bf7e828c"
      },
      "source": [
        "compra = 100.98\n",
        "pag = 150\n",
        "troco = pag - compra\n",
        "print(f\"O troco é de R${troco:.1f}\")\n"
      ],
      "execution_count": null,
      "outputs": [
        {
          "output_type": "stream",
          "text": [
            "O troco é de R$49.0\n"
          ],
          "name": "stdout"
        }
      ]
    },
    {
      "cell_type": "code",
      "metadata": {
        "id": "RjiQxFYRFJQw"
      },
      "source": [
        "#03 - Você está na flor da idade?"
      ],
      "execution_count": null,
      "outputs": []
    },
    {
      "cell_type": "code",
      "metadata": {
        "colab": {
          "base_uri": "https://localhost:8080/"
        },
        "id": "J3gpWIkdFLnm",
        "outputId": "1a7c7a0e-c74f-44ea-d223-1e40b4e05e53"
      },
      "source": [
        "ano_nasc = int(input(\"Digite o ano do seu nascimento: \"))\n",
        "ano_atual = 2021\n",
        "idade = ano_atual - ano_nasc\n",
        "print(f\"Sua idade é {idade} anos. Você está na flor da idade.\")"
      ],
      "execution_count": null,
      "outputs": [
        {
          "output_type": "stream",
          "text": [
            "Digite o ano do seu nascimento: 1989\n",
            "Sua idade é 32 anos. Você está na flor da idade.\n"
          ],
          "name": "stdout"
        }
      ]
    },
    {
      "cell_type": "markdown",
      "metadata": {
        "id": "KQxrOsiMG3VP"
      },
      "source": [
        "MINI PROJETOS"
      ]
    },
    {
      "cell_type": "code",
      "metadata": {
        "id": "VRqGzzd0G2mj"
      },
      "source": [
        "#01 - Conversor de moedas"
      ],
      "execution_count": null,
      "outputs": []
    },
    {
      "cell_type": "code",
      "metadata": {
        "colab": {
          "base_uri": "https://localhost:8080/"
        },
        "id": "Crtr5ymVIndF",
        "outputId": "108dc8cb-318e-4b3d-c491-19ef3dba49ca"
      },
      "source": [
        "moedas = ['DOLAR','EURO','LIBRA ESTERLINA','DOLAR CANADENSE','PESO ARGENTINO','PESO CHILENO']\n",
        "cotacoes = [5.04,6.13,7.13,4.16,0.053,0.0070]\n",
        "conversor = {k:v for k,v in zip(moedas,cotacoes)}\n",
        "real = float(input(\"Digite o valor em reais: \"))\n",
        "qual_moeda = input(\"Digite a moeda para converter: \")\n",
        "converter = real/conversor[qual_moeda.upper()]\n",
        "print(f\"Real: {real} -  {qual_moeda}: {converter:.2f}\")\n"
      ],
      "execution_count": null,
      "outputs": [
        {
          "output_type": "stream",
          "text": [
            "Digite o valor em reais: 1\n",
            "Digite a moeda para converter: dolar\n",
            "Real: 1.0 -  dolar: 0.20\n"
          ],
          "name": "stdout"
        }
      ]
    },
    {
      "cell_type": "code",
      "metadata": {
        "id": "oBKQU9i-RaoX"
      },
      "source": [
        "#02 - PART 1 Calculadora de aumento de aluguel"
      ],
      "execution_count": null,
      "outputs": []
    },
    {
      "cell_type": "code",
      "metadata": {
        "colab": {
          "base_uri": "https://localhost:8080/"
        },
        "id": "6UL_HJzQRfe-",
        "outputId": "b08480cf-7424-45b4-cc7b-d40f3cd06696"
      },
      "source": [
        "valor_aluguel = float(input(\"Digite o valor do aluguel: \"))\n",
        "taxa = 0.31\n",
        "valor_reajuste = valor_aluguel*(1+taxa) \n",
        "print(f\"Valor do aluguel = {valor_aluguel}\\nValor do aluguel reajustado = {valor_reajuste:.2f}\")\n",
        "\n"
      ],
      "execution_count": null,
      "outputs": [
        {
          "output_type": "stream",
          "text": [
            "Digite o valor do aluguel: 1000\n",
            "Valor do aluguel = 1000.0\n",
            "Valor do aluguel reajustado = 1310.00\n"
          ],
          "name": "stdout"
        }
      ]
    },
    {
      "cell_type": "code",
      "metadata": {
        "id": "JMVfX70RShmz"
      },
      "source": [
        "#02 - PART 2 Calculadora de aumento de aluguel"
      ],
      "execution_count": null,
      "outputs": []
    },
    {
      "cell_type": "code",
      "metadata": {
        "colab": {
          "base_uri": "https://localhost:8080/"
        },
        "id": "CY4Em0OjSrvw",
        "outputId": "b416e51b-8973-49ba-9b96-d47af2e40c9a"
      },
      "source": [
        "valor_aluguel = float(input(\"Digite o valor do aluguel: \"))\n",
        "percentual_reajuste = int(input(\"Digite a %: \"))\n",
        "taxa = float(percentual_reajuste/100)\n",
        "valor_reajuste = valor_aluguel*(1+taxa) \n",
        "print(f\"Valor do aluguel = {valor_aluguel}\\nValor do aluguel reajustado = {valor_reajuste:.2f}\")"
      ],
      "execution_count": null,
      "outputs": [
        {
          "output_type": "stream",
          "text": [
            "Digite o valor do aluguel: 1000\n",
            "Digite a %: 31\n",
            "Valor do aluguel = 1000.0\n",
            "Valor do aluguel reajustado = 1310.00\n"
          ],
          "name": "stdout"
        }
      ]
    }
  ]
}
