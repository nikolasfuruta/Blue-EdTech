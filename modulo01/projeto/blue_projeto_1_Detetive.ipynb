{
  "nbformat": 4,
  "nbformat_minor": 0,
  "metadata": {
    "colab": {
      "name": "blue_projeto_1_Detetive",
      "provenance": [],
      "collapsed_sections": [],
      "authorship_tag": "ABX9TyNG85Zv+OzsLUN0GVfOA0Xv",
      "include_colab_link": true
    },
    "kernelspec": {
      "name": "python3",
      "display_name": "Python 3"
    },
    "language_info": {
      "name": "python"
    }
  },
  "cells": [
    {
      "cell_type": "markdown",
      "metadata": {
        "id": "view-in-github",
        "colab_type": "text"
      },
      "source": [
        "<a href=\"https://colab.research.google.com/github/nikolasfuruta/exercicio_python_blue/blob/main/blue_projeto_1_Detetive.ipynb\" target=\"_parent\"><img src=\"https://colab.research.google.com/assets/colab-badge.svg\" alt=\"Open In Colab\"/></a>"
      ]
    },
    {
      "cell_type": "markdown",
      "metadata": {
        "id": "Xk0zdIsb4XdV"
      },
      "source": [
        "PROJETO 01 - DETETIVE"
      ]
    },
    {
      "cell_type": "code",
      "metadata": {
        "id": "dI3ZxK6Q3uZo"
      },
      "source": [
        "print(\"\"\"\n",
        "Bem vindo, estamos realizando uma investigação criminal e precisamos\n",
        "de sua colaboração!\n",
        "Faremos cinco perguntas e você precisa responder sinceramente com 'sim' ou\n",
        "'não', simples não é mesmo?\n",
        "Dito isso, vamos às perguntas!\n",
        "\"\"\")\n",
        "print(\"Por favor me responda.\")\n",
        "print('------------------------------------------')\n",
        "\n",
        "s = 0\n",
        "p1 = input(\"Você telefonou para a vítima? [S/N]: \").lower().strip()[0]\n",
        "if p1 == 's': s += 1\n",
        "\n",
        "p2 = input(\"Você esteve no local do crime? [S/N]: \").lower().strip()[0]\n",
        "if p2 == 's': s += 1\n",
        "\n",
        "p3 = input(\"Você mora perto da vítima? [S/N]: \").lower().strip()[0]\n",
        "if p3 == 's': s += 1\n",
        "\n",
        "p4 = input(\"Você devia para a vítima? [S/N]: \").lower().strip()[0]\n",
        "if p4 == 's': s += 1\n",
        "\n",
        "p5 = input(\"Você já trabalhou com a vítima? [S/N]: \").lower().strip()[0]\n",
        "if p5 == 's': s += 1\n",
        "print()\n",
        "\n",
        "# Analise da variável 's'\n",
        "if s < 2:\n",
        "  print(\"Você foi considerado INOCENTE, viu como não tinha o que temer?\")\n",
        "elif s == 2:\n",
        "  print(\"Você foi considerado SUSPEITO, manteremos contato!\")\n",
        "elif 2 < s <= 4:\n",
        "  print(\"\"\"\n",
        "  Você foi considerado CÚMPLICE,é bom você não sair da cidade nos próximos dias!\n",
        "  \"\"\")\n",
        "elif s == 5:\n",
        "  print(\"\"\"\n",
        "  Você foi considerado ASSASSINO, nem se incomode em sair daqui. Você está preso!\n",
        "  \"\"\")\n",
        "\n",
        "\n",
        "\n",
        "\n",
        "\n",
        "  \n",
        "\n",
        "\n",
        "\n",
        "\n",
        "\n"
      ],
      "execution_count": null,
      "outputs": []
    }
  ]
}
